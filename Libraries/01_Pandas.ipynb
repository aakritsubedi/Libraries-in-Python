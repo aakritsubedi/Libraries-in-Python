{
  "cells": [
    {
      "cell_type": "markdown",
      "metadata": {
        "id": "GvYmFkDe1O3K"
      },
      "source": [
        "Pandas is a Python library used for working with data sets.\n",
        "\n",
        "It has functions for analyzing, cleaning, exploring, and manipulating data.\n",
        "\n",
        "Why Use Pandas?\n",
        "\n",
        "Pandas allows us to analyze big data and make conclusions based on statistical theories.\n",
        "\n",
        "Pandas can clean messy data sets, and make them readable and relevant.\n",
        "\n",
        "Relevant data is very important in data science."
      ]
    },
    {
      "cell_type": "code",
      "execution_count": 41,
      "metadata": {
        "id": "dWR7bNip1DXy"
      },
      "outputs": [],
      "source": [
        "# Import Pandas\n",
        "import pandas as pd"
      ]
    },
    {
      "cell_type": "code",
      "execution_count": 42,
      "metadata": {
        "colab": {
          "base_uri": "https://localhost:8080/"
        },
        "id": "rzEsG4E8_kx8",
        "outputId": "40141dfb-ba8b-4709-be7b-0cc39256688a"
      },
      "outputs": [
        {
          "name": "stdout",
          "output_type": "stream",
          "text": [
            "Mounted at /gdrive\n"
          ]
        }
      ],
      "source": [
        "# Mounting Google Drive\n",
        "from google.colab import drive\n",
        "drive.mount('/gdrive')"
      ]
    },
    {
      "cell_type": "markdown",
      "metadata": {
        "id": "IVL46Dqa_Y15"
      },
      "source": [
        "# Create"
      ]
    },
    {
      "cell_type": "code",
      "execution_count": 43,
      "metadata": {
        "colab": {
          "base_uri": "https://localhost:8080/"
        },
        "id": "lMWR-5PK9hXB",
        "outputId": "54074e1a-a2bc-4f67-daeb-721c76f3df07"
      },
      "outputs": [
        {
          "name": "stdout",
          "output_type": "stream",
          "text": [
            "    employee_id first_name     last_name  ...         dob  fte   location\n",
            "0       1377208     Tushar        NIYOGI  ...  1958-02-20  1.0    Pokhara\n",
            "1       1672200      Kabir   Jamarkattel  ...  1963-03-18  0.8  Kathmandu\n",
            "2       1977006  Balgovind       Baidhya  ...  1982-07-13  1.0    Hetauda\n",
            "3       3974506    Shambhu  Bhattacharya  ...  1990-03-14  1.0    Pokhara\n",
            "4       4019778   Jitendra     Tripathee  ...  1990-10-10  1.0    Pokhara\n",
            "5       4024378     Kundan         Dangi  ...  1964-04-22  1.0    Pokhara\n",
            "6       5001188    Praveen       Bastola  ...  1974-02-11  1.0  Kathmandu\n",
            "7       5001252     Aadesh          Raut  ...  1988-10-03  0.5    Hetauda\n",
            "8       5005963     Kripal      Adhikari  ...  1980-02-28  1.0    Hetauda\n",
            "9       5009770  Swayambhu      Tamarkar  ...  1975-08-13  1.0  Kathmandu\n",
            "10      5010823       Muni        Bhujel  ...  1985-03-15  0.9    Hetauda\n",
            "11      5010831      HIMAL       Baruwal  ...  1992-06-07  0.9    Hetauda\n",
            "12      5010836    Purnima         Hamal  ...  1972-11-24  1.0  Kathmandu\n",
            "13      5011015      Nanda   Rajkarnikar  ...  1991-05-17  1.0  Kathmandu\n",
            "14      5011018       Rani       NEOPANE  ...  1983-12-12  1.0  Kathmandu\n",
            "15      5011060      Sudha      Kansakar  ...  1973-06-06  0.9  Kathmandu\n",
            "16      5011105    Anushka     Manandhar  ...  1971-06-10  1.0    Hetauda\n",
            "17      5011110     Lochan         Maske  ...  1992-10-30  1.0  Kathmandu\n",
            "18      5011147      Amiri       Gyawali  ...  1977-03-02  1.0  Kathmandu\n",
            "19      5011401   Mahadevi        Khetan  ...  1982-09-25  1.0    Hetauda\n",
            "20      5011499    Peenkee        Ranjan  ...  1955-10-14  0.9  Kathmandu\n",
            "21      5011633     Himani       Pokhrel  ...  1967-08-15  1.0    Pokhara\n",
            "22      5012159     SARUPA         Dolma  ...  1992-11-28  1.0  Kathmandu\n",
            "23      5012163     Ameeri     Manandhar  ...  1983-08-31  1.0    Pokhara\n",
            "24      5012165     Ameeta      Barakoti  ...  1961-10-27  0.6    Hetauda\n",
            "25      5012319    Sukriti       Chataut  ...  1964-05-16  0.9    Pokhara\n",
            "26      5012329       Maya         Yadav  ...  1994-01-25  1.0  Kathmandu\n",
            "27      5014147       Rani        Karkee  ...  1956-07-16  1.0    Hetauda\n",
            "28       507800      Himal       Banjade  ...  1961-09-07  1.0    Pokhara\n",
            "29       986301      Mayur         Rumba  ...  1968-08-10  1.0    Pokhara\n",
            "\n",
            "[30 rows x 14 columns]\n"
          ]
        }
      ],
      "source": [
        "# 1.1 Create from a CSV\n",
        "df = pd.read_csv('./SampleData/employee_2021_08_01.csv')\n",
        "\n",
        "print(df)"
      ]
    },
    {
      "cell_type": "code",
      "execution_count": 9,
      "metadata": {
        "colab": {
          "base_uri": "https://localhost:8080/"
        },
        "id": "lEowT6XK_jS0",
        "outputId": "51e2a134-6d33-445d-e0b5-e8c8429375df"
      },
      "outputs": [
        {
          "name": "stdout",
          "output_type": "stream",
          "text": [
            "   col1  col2  col3\n",
            "0     1     4     7\n",
            "1     2     5     8\n",
            "2     3     6     9\n"
          ]
        }
      ],
      "source": [
        "# 1.2 Create from a Dictionary  \n",
        "temp_dict = {\n",
        "  'col1': [1,2,3],\n",
        "  'col2': [4,5,6],\n",
        "  'col3': [7,8,9]\n",
        "}\n",
        "\n",
        "dict_df = pd.DataFrame.from_dict(temp_dict)\n",
        "\n",
        "print(dict_df)"
      ]
    },
    {
      "cell_type": "markdown",
      "metadata": {
        "id": "brBUV8z-AmlL"
      },
      "source": [
        "# READ"
      ]
    },
    {
      "cell_type": "code",
      "execution_count": 10,
      "metadata": {
        "colab": {
          "base_uri": "https://localhost:8080/"
        },
        "id": "IZRx1xgXApod",
        "outputId": "0accfa62-c854-41ac-cda8-60a488a35cc4"
      },
      "outputs": [
        {
          "name": "stdout",
          "output_type": "stream",
          "text": [
            "Top 5 Data\n",
            "   employee_id first_name     last_name  ...         dob  fte   location\n",
            "0      1377208     Tushar        NIYOGI  ...  1958-02-20  1.0    Pokhara\n",
            "1      1672200      Kabir   Jamarkattel  ...  1963-03-18  0.8  Kathmandu\n",
            "2      1977006  Balgovind       Baidhya  ...  1982-07-13  1.0    Hetauda\n",
            "3      3974506    Shambhu  Bhattacharya  ...  1990-03-14  1.0    Pokhara\n",
            "4      4019778   Jitendra     Tripathee  ...  1990-10-10  1.0    Pokhara\n",
            "\n",
            "[5 rows x 14 columns]\n",
            "Top 10 Data\n",
            "   employee_id first_name     last_name  ...         dob  fte   location\n",
            "0      1377208     Tushar        NIYOGI  ...  1958-02-20  1.0    Pokhara\n",
            "1      1672200      Kabir   Jamarkattel  ...  1963-03-18  0.8  Kathmandu\n",
            "2      1977006  Balgovind       Baidhya  ...  1982-07-13  1.0    Hetauda\n",
            "3      3974506    Shambhu  Bhattacharya  ...  1990-03-14  1.0    Pokhara\n",
            "4      4019778   Jitendra     Tripathee  ...  1990-10-10  1.0    Pokhara\n",
            "5      4024378     Kundan         Dangi  ...  1964-04-22  1.0    Pokhara\n",
            "6      5001188    Praveen       Bastola  ...  1974-02-11  1.0  Kathmandu\n",
            "7      5001252     Aadesh          Raut  ...  1988-10-03  0.5    Hetauda\n",
            "8      5005963     Kripal      Adhikari  ...  1980-02-28  1.0    Hetauda\n",
            "9      5009770  Swayambhu      Tamarkar  ...  1975-08-13  1.0  Kathmandu\n",
            "\n",
            "[10 rows x 14 columns]\n"
          ]
        }
      ],
      "source": [
        "# 2.1 Show top and bottom rows\n",
        "\n",
        "top5 = df.head()\n",
        "top10 = df.head(10)\n",
        "\n",
        "print('Top 5 Data')\n",
        "print(top5)\n",
        "\n",
        "print('Top 10 Data')\n",
        "print(top10)\n",
        "\n"
      ]
    },
    {
      "cell_type": "code",
      "execution_count": 11,
      "metadata": {
        "colab": {
          "base_uri": "https://localhost:8080/"
        },
        "id": "2DmHaKULA7-X",
        "outputId": "c98cb6b2-06dd-43c7-d693-ea1e512bf658"
      },
      "outputs": [
        {
          "name": "stdout",
          "output_type": "stream",
          "text": [
            "Bottom 5 Data\n",
            "    employee_id first_name last_name  ...         dob  fte   location\n",
            "25      5012319    Sukriti   Chataut  ...  1964-05-16  0.9    Pokhara\n",
            "26      5012329       Maya     Yadav  ...  1994-01-25  1.0  Kathmandu\n",
            "27      5014147       Rani    Karkee  ...  1956-07-16  1.0    Hetauda\n",
            "28       507800      Himal   Banjade  ...  1961-09-07  1.0    Pokhara\n",
            "29       986301      Mayur     Rumba  ...  1968-08-10  1.0    Pokhara\n",
            "\n",
            "[5 rows x 14 columns]\n",
            "Bottom 10 Data\n",
            "    employee_id first_name  last_name  ...         dob  fte   location\n",
            "20      5011499    Peenkee     Ranjan  ...  1955-10-14  0.9  Kathmandu\n",
            "21      5011633     Himani    Pokhrel  ...  1967-08-15  1.0    Pokhara\n",
            "22      5012159     SARUPA      Dolma  ...  1992-11-28  1.0  Kathmandu\n",
            "23      5012163     Ameeri  Manandhar  ...  1983-08-31  1.0    Pokhara\n",
            "24      5012165     Ameeta   Barakoti  ...  1961-10-27  0.6    Hetauda\n",
            "25      5012319    Sukriti    Chataut  ...  1964-05-16  0.9    Pokhara\n",
            "26      5012329       Maya      Yadav  ...  1994-01-25  1.0  Kathmandu\n",
            "27      5014147       Rani     Karkee  ...  1956-07-16  1.0    Hetauda\n",
            "28       507800      Himal    Banjade  ...  1961-09-07  1.0    Pokhara\n",
            "29       986301      Mayur      Rumba  ...  1968-08-10  1.0    Pokhara\n",
            "\n",
            "[10 rows x 14 columns]\n"
          ]
        }
      ],
      "source": [
        "last5 = df.tail()\n",
        "last10 = df.tail(10)\n",
        "\n",
        "print('Bottom 5 Data')\n",
        "print(last5)\n",
        "\n",
        "print('Bottom 10 Data')\n",
        "print(last10)"
      ]
    },
    {
      "cell_type": "code",
      "execution_count": 12,
      "metadata": {
        "colab": {
          "base_uri": "https://localhost:8080/"
        },
        "id": "D22kOTrfBITi",
        "outputId": "9503c45c-5566-4791-de95-d55b4783bf90"
      },
      "outputs": [
        {
          "name": "stdout",
          "output_type": "stream",
          "text": [
            "Index(['employee_id', 'first_name', 'last_name', 'department_id',\n",
            "       'department_name', 'manager_employee_id', 'employee_role', 'salary',\n",
            "       'hire_date', 'terminated_date', 'terminated_reason', 'dob', 'fte',\n",
            "       'location'],\n",
            "      dtype='object')\n"
          ]
        }
      ],
      "source": [
        "# 2.1 Show columns and Data types\n",
        "columns = df.columns\n",
        "print(columns)"
      ]
    },
    {
      "cell_type": "code",
      "execution_count": 14,
      "metadata": {
        "colab": {
          "base_uri": "https://localhost:8080/"
        },
        "id": "kvVwQrpHBWwx",
        "outputId": "1a267d5e-7fa1-41b0-8de9-d3cbefa60a86"
      },
      "outputs": [
        {
          "name": "stdout",
          "output_type": "stream",
          "text": [
            "employee_id              int64\n",
            "first_name              object\n",
            "last_name               object\n",
            "department_id            int64\n",
            "department_name         object\n",
            "manager_employee_id     object\n",
            "employee_role           object\n",
            "salary                   int64\n",
            "hire_date               object\n",
            "terminated_date         object\n",
            "terminated_reason       object\n",
            "dob                     object\n",
            "fte                    float64\n",
            "location                object\n",
            "dtype: object\n"
          ]
        }
      ],
      "source": [
        "data_types = df.dtypes\n",
        "print(data_types)"
      ]
    },
    {
      "cell_type": "code",
      "execution_count": 16,
      "metadata": {
        "colab": {
          "base_uri": "https://localhost:8080/"
        },
        "id": "6d4pLStuBc1y",
        "outputId": "6afaea1d-4f55-462b-a572-c73c60c6dd9f"
      },
      "outputs": [
        {
          "name": "stdout",
          "output_type": "stream",
          "text": [
            "        employee_id  department_id        salary        fte\n",
            "count  3.000000e+01      30.000000     30.000000  30.000000\n",
            "mean   4.292204e+06   35534.700000   8026.333333   0.946667\n",
            "std    1.408896e+06   17718.081606   2882.129605   0.119578\n",
            "min    5.078000e+05   11151.000000   2793.000000   0.500000\n",
            "25%    4.268580e+06   18048.000000   5894.000000   0.925000\n",
            "50%    5.010926e+06   31288.000000   8857.500000   1.000000\n",
            "75%    5.011474e+06   52837.500000  10340.000000   1.000000\n",
            "max    5.014147e+06   55050.000000  12138.000000   1.000000\n"
          ]
        }
      ],
      "source": [
        "# 2.3 Summary Statistics\n",
        "summary = df.describe()\n",
        "print(summary)"
      ]
    },
    {
      "cell_type": "code",
      "execution_count": 17,
      "metadata": {
        "colab": {
          "base_uri": "https://localhost:8080/"
        },
        "id": "8Cr07DqBBf5j",
        "outputId": "aea9e4d0-e8eb-43f8-c13e-645d22ebd701"
      },
      "outputs": [
        {
          "name": "stdout",
          "output_type": "stream",
          "text": [
            "       first_name  last_name  ...         dob   location\n",
            "count          30         30  ...          30         30\n",
            "unique         29         29  ...          30          3\n",
            "top          Rani  Manandhar  ...  1961-10-27  Kathmandu\n",
            "freq            2          2  ...           1         12\n",
            "\n",
            "[4 rows x 10 columns]\n"
          ]
        }
      ],
      "source": [
        "# Including object in summary\n",
        "object_summary = df.describe(include='object')\n",
        "print(object_summary)"
      ]
    },
    {
      "cell_type": "code",
      "execution_count": 64,
      "metadata": {
        "colab": {
          "base_uri": "https://localhost:8080/"
        },
        "id": "bLupvKD6GFna",
        "outputId": "561dcfa5-615e-44ce-e66c-3b41e91d1baa"
      },
      "outputs": [
        {
          "name": "stdout",
          "output_type": "stream",
          "text": [
            "               employee_id  department_id  ...  work_hours  is_full_time\n",
            "employee_id            1.0            NaN  ...         NaN           NaN\n",
            "department_id          NaN            NaN  ...         NaN           NaN\n",
            "salary                 1.0            NaN  ...         NaN           NaN\n",
            "fte                    NaN            NaN  ...         NaN           NaN\n",
            "work_hours             NaN            NaN  ...         NaN           NaN\n",
            "is_full_time           NaN            NaN  ...         NaN           NaN\n",
            "\n",
            "[6 rows x 6 columns]\n"
          ]
        }
      ],
      "source": [
        "# Correlations\n",
        "rel = df.corr()\n",
        "\n",
        "print(rel)"
      ]
    },
    {
      "cell_type": "code",
      "execution_count": 19,
      "metadata": {
        "colab": {
          "base_uri": "https://localhost:8080/"
        },
        "id": "FF_hH22zBxz6",
        "outputId": "f3442055-0984-4ca0-a4a0-50a6b129d887"
      },
      "outputs": [
        {
          "name": "stdout",
          "output_type": "stream",
          "text": [
            "0       Pokhara\n",
            "1     Kathmandu\n",
            "2       Hetauda\n",
            "3       Pokhara\n",
            "4       Pokhara\n",
            "5       Pokhara\n",
            "6     Kathmandu\n",
            "7       Hetauda\n",
            "8       Hetauda\n",
            "9     Kathmandu\n",
            "10      Hetauda\n",
            "11      Hetauda\n",
            "12    Kathmandu\n",
            "13    Kathmandu\n",
            "14    Kathmandu\n",
            "15    Kathmandu\n",
            "16      Hetauda\n",
            "17    Kathmandu\n",
            "18    Kathmandu\n",
            "19      Hetauda\n",
            "20    Kathmandu\n",
            "21      Pokhara\n",
            "22    Kathmandu\n",
            "23      Pokhara\n",
            "24      Hetauda\n",
            "25      Pokhara\n",
            "26    Kathmandu\n",
            "27      Hetauda\n",
            "28      Pokhara\n",
            "29      Pokhara\n",
            "Name: location, dtype: object\n"
          ]
        }
      ],
      "source": [
        "# 2.4 Filtering Columns\n",
        "locations = df.location\n",
        "print(locations)"
      ]
    },
    {
      "cell_type": "code",
      "execution_count": null,
      "metadata": {
        "id": "otLdoXYrB8jv"
      },
      "outputs": [],
      "source": [
        "locations = df['location']"
      ]
    },
    {
      "cell_type": "code",
      "execution_count": 20,
      "metadata": {
        "colab": {
          "base_uri": "https://localhost:8080/"
        },
        "id": "6FyUeTtBCDfz",
        "outputId": "d3d0a6cd-5838-4507-c8a9-775586189040"
      },
      "outputs": [
        {
          "name": "stdout",
          "output_type": "stream",
          "text": [
            "    employee_id   location\n",
            "0       1377208    Pokhara\n",
            "1       1672200  Kathmandu\n",
            "2       1977006    Hetauda\n",
            "3       3974506    Pokhara\n",
            "4       4019778    Pokhara\n",
            "5       4024378    Pokhara\n",
            "6       5001188  Kathmandu\n",
            "7       5001252    Hetauda\n",
            "8       5005963    Hetauda\n",
            "9       5009770  Kathmandu\n",
            "10      5010823    Hetauda\n",
            "11      5010831    Hetauda\n",
            "12      5010836  Kathmandu\n",
            "13      5011015  Kathmandu\n",
            "14      5011018  Kathmandu\n",
            "15      5011060  Kathmandu\n",
            "16      5011105    Hetauda\n",
            "17      5011110  Kathmandu\n",
            "18      5011147  Kathmandu\n",
            "19      5011401    Hetauda\n",
            "20      5011499  Kathmandu\n",
            "21      5011633    Pokhara\n",
            "22      5012159  Kathmandu\n",
            "23      5012163    Pokhara\n",
            "24      5012165    Hetauda\n",
            "25      5012319    Pokhara\n",
            "26      5012329  Kathmandu\n",
            "27      5014147    Hetauda\n",
            "28       507800    Pokhara\n",
            "29       986301    Pokhara\n"
          ]
        }
      ],
      "source": [
        "emp_location = df[['employee_id', 'location']]\n",
        "print(emp_location)"
      ]
    },
    {
      "cell_type": "code",
      "execution_count": 22,
      "metadata": {
        "colab": {
          "base_uri": "https://localhost:8080/"
        },
        "id": "pgoytYSjCM0i",
        "outputId": "536ffcc4-1bdf-4dd6-9ae2-ad0c7f65e733"
      },
      "outputs": [
        {
          "name": "stdout",
          "output_type": "stream",
          "text": [
            "['Pokhara' 'Kathmandu' 'Hetauda']\n"
          ]
        }
      ],
      "source": [
        "#  Unique \n",
        "branch = df['location'].unique()\n",
        "print(branch)"
      ]
    },
    {
      "cell_type": "code",
      "execution_count": 23,
      "metadata": {
        "colab": {
          "base_uri": "https://localhost:8080/"
        },
        "id": "HUu6GogxCUy2",
        "outputId": "2408c106-00a9-4c45-bc5e-7618359da50f"
      },
      "outputs": [
        {
          "name": "stdout",
          "output_type": "stream",
          "text": [
            "[54013 31288 51100 18048 55050 51120 11151 31285 53410]\n"
          ]
        }
      ],
      "source": [
        "department = df.department_id.unique()\n",
        "print(department)"
      ]
    },
    {
      "cell_type": "code",
      "execution_count": 24,
      "metadata": {
        "colab": {
          "base_uri": "https://localhost:8080/"
        },
        "id": "bNgymbifCdVt",
        "outputId": "5ec6fff5-888c-4818-eb4b-382673ab217f"
      },
      "outputs": [
        {
          "name": "stdout",
          "output_type": "stream",
          "text": [
            "    employee_id first_name     last_name  ...         dob  fte location\n",
            "0       1377208     Tushar        NIYOGI  ...  1958-02-20  1.0  Pokhara\n",
            "3       3974506    Shambhu  Bhattacharya  ...  1990-03-14  1.0  Pokhara\n",
            "4       4019778   Jitendra     Tripathee  ...  1990-10-10  1.0  Pokhara\n",
            "5       4024378     Kundan         Dangi  ...  1964-04-22  1.0  Pokhara\n",
            "21      5011633     Himani       Pokhrel  ...  1967-08-15  1.0  Pokhara\n",
            "23      5012163     Ameeri     Manandhar  ...  1983-08-31  1.0  Pokhara\n",
            "25      5012319    Sukriti       Chataut  ...  1964-05-16  0.9  Pokhara\n",
            "28       507800      Himal       Banjade  ...  1961-09-07  1.0  Pokhara\n",
            "29       986301      Mayur         Rumba  ...  1968-08-10  1.0  Pokhara\n",
            "\n",
            "[9 rows x 14 columns]\n"
          ]
        }
      ],
      "source": [
        "# 2.5 Filtering Rows\n",
        "pokhara_emp = df[df['location'] == 'Pokhara']\n",
        "print(pokhara_emp) "
      ]
    },
    {
      "cell_type": "code",
      "execution_count": 25,
      "metadata": {
        "colab": {
          "base_uri": "https://localhost:8080/"
        },
        "id": "LoIrW_DaCq44",
        "outputId": "9a561656-7f32-4e7a-f510-dcc0b57a1a0d"
      },
      "outputs": [
        {
          "name": "stdout",
          "output_type": "stream",
          "text": [
            "   employee_id first_name     last_name  ...         dob  fte location\n",
            "0      1377208     Tushar        NIYOGI  ...  1958-02-20  1.0  Pokhara\n",
            "3      3974506    Shambhu  Bhattacharya  ...  1990-03-14  1.0  Pokhara\n",
            "\n",
            "[2 rows x 14 columns]\n"
          ]
        }
      ],
      "source": [
        "pokhara_employee_department54013 = df[(df['location'] == 'Pokhara') & (df['department_id']==54013)]\n",
        "print(pokhara_employee_department54013)"
      ]
    },
    {
      "cell_type": "code",
      "execution_count": 27,
      "metadata": {
        "colab": {
          "base_uri": "https://localhost:8080/"
        },
        "id": "nqgIL71nCxrP",
        "outputId": "8d3c8d84-1184-47f8-ef9e-247e1d49d0a0"
      },
      "outputs": [
        {
          "name": "stdout",
          "output_type": "stream",
          "text": [
            "employee_id                            5011018\n",
            "first_name                                Rani\n",
            "last_name                              NEOPANE\n",
            "department_id                            51120\n",
            "department_name           NFS NCCH - Starbucks\n",
            "manager_employee_id                    1977006\n",
            "employee_role          Food Services Associate\n",
            "salary                                    5601\n",
            "hire_date                           2016-10-24\n",
            "terminated_date                     01-01-1700\n",
            "terminated_reason                          NaN\n",
            "dob                                 1983-12-12\n",
            "fte                                          1\n",
            "location                             Kathmandu\n",
            "Name: 14, dtype: object\n",
            "Rani\n",
            "Kathmandu\n",
            "    employee_id first_name    last_name  ...         dob  fte   location\n",
            "10      5010823       Muni       Bhujel  ...  1985-03-15  0.9    Hetauda\n",
            "11      5010831      HIMAL      Baruwal  ...  1992-06-07  0.9    Hetauda\n",
            "12      5010836    Purnima        Hamal  ...  1972-11-24  1.0  Kathmandu\n",
            "13      5011015      Nanda  Rajkarnikar  ...  1991-05-17  1.0  Kathmandu\n",
            "14      5011018       Rani      NEOPANE  ...  1983-12-12  1.0  Kathmandu\n",
            "\n",
            "[5 rows x 14 columns]\n"
          ]
        }
      ],
      "source": [
        "# Indexing with iloc\n",
        "print(df.iloc[14])\n",
        "\n",
        "# to get column \n",
        "print(df.iloc[14, 1])\n",
        "print(df.iloc[14, -1])\n",
        "\n",
        "# Slicing\n",
        "print(df.iloc[10:15])"
      ]
    },
    {
      "cell_type": "code",
      "execution_count": null,
      "metadata": {
        "id": "OK4xfp59EhBx"
      },
      "outputs": [],
      "source": []
    },
    {
      "cell_type": "markdown",
      "metadata": {
        "id": "pCdlHacmC6BY"
      },
      "source": [
        "# Update"
      ]
    },
    {
      "cell_type": "code",
      "execution_count": 45,
      "metadata": {
        "colab": {
          "base_uri": "https://localhost:8080/"
        },
        "id": "n8wLKzBIDAVm",
        "outputId": "c8869cf4-64bf-4e0a-ccf8-2776223a86e9"
      },
      "outputs": [
        {
          "name": "stdout",
          "output_type": "stream",
          "text": [
            "employee_id             0\n",
            "first_name              0\n",
            "last_name               0\n",
            "department_id           0\n",
            "department_name         0\n",
            "manager_employee_id     0\n",
            "employee_role           0\n",
            "salary                  0\n",
            "hire_date               0\n",
            "terminated_date         0\n",
            "terminated_reason      28\n",
            "dob                     0\n",
            "fte                     0\n",
            "location                0\n",
            "dtype: int64\n"
          ]
        }
      ],
      "source": [
        "# 3.1 Dropping Rows\n",
        "null_values = df.isnull().sum()\n",
        "print(null_values)\n"
      ]
    },
    {
      "cell_type": "code",
      "execution_count": 52,
      "metadata": {
        "id": "OXbToRqaDWPx"
      },
      "outputs": [],
      "source": [
        "# df.dropna(inplace=True)"
      ]
    },
    {
      "cell_type": "code",
      "execution_count": 47,
      "metadata": {
        "colab": {
          "base_uri": "https://localhost:8080/"
        },
        "id": "VcSEL4-DDZDt",
        "outputId": "2d184ccb-a46a-46a9-8658-b151fe8e1648"
      },
      "outputs": [
        {
          "name": "stdout",
          "output_type": "stream",
          "text": [
            "    employee_id first_name last_name  ...         dob  fte   location\n",
            "18      5011147      Amiri   Gyawali  ...  1977-03-02  1.0  Kathmandu\n",
            "28       507800      Himal   Banjade  ...  1961-09-07  1.0    Pokhara\n",
            "\n",
            "[2 rows x 14 columns]\n"
          ]
        }
      ],
      "source": [
        "print(df)"
      ]
    },
    {
      "cell_type": "code",
      "execution_count": 48,
      "metadata": {
        "colab": {
          "base_uri": "https://localhost:8080/"
        },
        "id": "FkhjiWC9DbAc",
        "outputId": "31f2c878-87a6-445d-cc52-bc9f00ff667f"
      },
      "outputs": [
        {
          "name": "stdout",
          "output_type": "stream",
          "text": [
            "    employee_id first_name last_name  ...         dob  fte   location\n",
            "18      5011147      Amiri   Gyawali  ...  1977-03-02  1.0  Kathmandu\n",
            "28       507800      Himal   Banjade  ...  1961-09-07  1.0    Pokhara\n",
            "\n",
            "[2 rows x 14 columns]\n"
          ]
        }
      ],
      "source": [
        "# 3.2 Dropping columns\n",
        "df.drop('terminated_date', axis=1)\n",
        "print(df)"
      ]
    },
    {
      "cell_type": "code",
      "execution_count": 49,
      "metadata": {
        "colab": {
          "base_uri": "https://localhost:8080/"
        },
        "id": "yAeCmUr2Dfo6",
        "outputId": "b18c3e06-79bd-4832-f093-aecc51a02319"
      },
      "outputs": [
        {
          "name": "stdout",
          "output_type": "stream",
          "text": [
            "    employee_id first_name last_name  ...  fte   location work_hours\n",
            "18      5011147      Amiri   Gyawali  ...  1.0  Kathmandu       40.0\n",
            "28       507800      Himal   Banjade  ...  1.0    Pokhara       40.0\n",
            "\n",
            "[2 rows x 15 columns]\n"
          ]
        }
      ],
      "source": [
        "# 3.3 Creating calculated column\n",
        "df['work_hours'] = df['fte'] * 40\n",
        "print(df)"
      ]
    },
    {
      "cell_type": "code",
      "execution_count": 50,
      "metadata": {
        "id": "tIVBPg1-DiAy"
      },
      "outputs": [],
      "source": [
        "# Updating Value\n",
        "# df['work_hours'] = '40 Hours'\n",
        "# df.iloc[0, -1] = 10"
      ]
    },
    {
      "cell_type": "code",
      "execution_count": 51,
      "metadata": {
        "colab": {
          "base_uri": "https://localhost:8080/"
        },
        "id": "H8uVy56hDjwD",
        "outputId": "d2b14ee2-316b-42f5-ef31-217e2768c918"
      },
      "outputs": [
        {
          "name": "stdout",
          "output_type": "stream",
          "text": [
            "    employee_id first_name last_name  ...   location work_hours is_full_time\n",
            "18      5011147      Amiri   Gyawali  ...  Kathmandu       40.0         True\n",
            "28       507800      Himal   Banjade  ...    Pokhara       40.0         True\n",
            "\n",
            "[2 rows x 16 columns]\n"
          ]
        }
      ],
      "source": [
        "# 3.4 Condition based updating\n",
        "df['is_full_time'] = df['work_hours'].apply(lambda x:  True if x == 40 else False)\n",
        "print(df)\n"
      ]
    },
    {
      "cell_type": "markdown",
      "metadata": {
        "id": "CO5JtAnMEVKo"
      },
      "source": [
        "# Cleaning Data\n",
        "Data cleaning means fixing bad data in your data set.\n",
        "\n",
        "Bad data could be:\n",
        "\n",
        "- Empty cells\n",
        "- Data in wrong format\n",
        "- Wrong data\n",
        "- Duplicates"
      ]
    },
    {
      "cell_type": "code",
      "execution_count": 55,
      "metadata": {
        "colab": {
          "base_uri": "https://localhost:8080/"
        },
        "id": "E10MH0VsEiGM",
        "outputId": "0a2a7e8f-c946-4fc6-8bb3-0d0b24507fa1"
      },
      "outputs": [
        {
          "name": "stdout",
          "output_type": "stream",
          "text": [
            "    employee_id first_name last_name  department_id            department_name manager_employee_id employee_role  salary   hire_date terminated_date terminated_reason         dob  fte   location  work_hours  is_full_time\n",
            "18      5011147      Amiri   Gyawali          18048  Patient Equipment Service             5001188   Stock Clerk   10905  2016-11-21      03-15-2020  Contract Expired  1977-03-02  1.0  Kathmandu        40.0          True\n",
            "28       507800      Himal   Banjade          18048  Patient Equipment Service             5001188   Stock Clerk    8903  1995-09-11      08-26-2005   Medical Urgency  1961-09-07  1.0    Pokhara        40.0          True\n"
          ]
        }
      ],
      "source": [
        "# Empty Cell \n",
        "new_df = df.dropna()\n",
        "\n",
        "print(new_df.to_string())"
      ]
    },
    {
      "cell_type": "code",
      "execution_count": 59,
      "metadata": {
        "colab": {
          "base_uri": "https://localhost:8080/"
        },
        "id": "2XEh_5drFEtO",
        "outputId": "ba42e2c8-9483-4076-bd3f-71be83c5fc96"
      },
      "outputs": [
        {
          "name": "stdout",
          "output_type": "stream",
          "text": [
            "    employee_id first_name last_name  ...   location work_hours is_full_time\n",
            "18      5011147      Amiri   Gyawali  ...  Kathmandu       40.0         True\n",
            "28       507800      Himal   Banjade  ...    Pokhara       40.0         True\n",
            "\n",
            "[2 rows x 16 columns]\n",
            "    employee_id first_name last_name  ...   location work_hours is_full_time\n",
            "18      5011147      Amiri   Gyawali  ...  Kathmandu       40.0         True\n",
            "28       507800      Himal   Banjade  ...    Pokhara       40.0         True\n",
            "\n",
            "[2 rows x 16 columns]\n"
          ]
        }
      ],
      "source": [
        "# Replace NA with value\n",
        "df.fillna('-', inplace = True)\n",
        "print(df)\n",
        "\n",
        "# Replace only for specified column\n",
        "df['work_hours'].fillna(0, inplace = True)\n",
        "print(df)"
      ]
    },
    {
      "cell_type": "code",
      "execution_count": 60,
      "metadata": {
        "colab": {
          "base_uri": "https://localhost:8080/"
        },
        "id": "WhBARH-eFkWt",
        "outputId": "46a910be-b80d-4799-81cd-67fbdc7c1cb3"
      },
      "outputs": [
        {
          "name": "stdout",
          "output_type": "stream",
          "text": [
            "    employee_id first_name last_name  ...   location work_hours is_full_time\n",
            "18      5011147      Amiri   Gyawali  ...  Kathmandu       40.0         True\n",
            "28       507800      Himal   Banjade  ...    Pokhara       40.0         True\n",
            "\n",
            "[2 rows x 16 columns]\n"
          ]
        }
      ],
      "source": [
        "# Wrong Format\n",
        "df['terminated_date'] = pd.to_datetime(df['terminated_date'])\n",
        "print(df)"
      ]
    },
    {
      "cell_type": "code",
      "execution_count": 61,
      "metadata": {
        "colab": {
          "base_uri": "https://localhost:8080/"
        },
        "id": "C3jT51AqF1gA",
        "outputId": "28bf5c24-cb0c-4d6c-8dff-b3e99b9f6f9a"
      },
      "outputs": [
        {
          "name": "stdout",
          "output_type": "stream",
          "text": [
            "18    False\n",
            "28    False\n",
            "dtype: bool\n"
          ]
        }
      ],
      "source": [
        "# Duplicates\n",
        "print(df.duplicated())"
      ]
    },
    {
      "cell_type": "code",
      "execution_count": 62,
      "metadata": {
        "id": "0hKQlHkeF6ka"
      },
      "outputs": [],
      "source": [
        "# Removing Duplicates\n",
        "df.drop_duplicates(inplace = True)"
      ]
    },
    {
      "cell_type": "markdown",
      "metadata": {
        "id": "CDmhy86-DphK"
      },
      "source": [
        "# Output"
      ]
    },
    {
      "cell_type": "code",
      "execution_count": 35,
      "metadata": {
        "id": "z4DEMjmfDscF"
      },
      "outputs": [],
      "source": [
        "# 4.1 Output to CSV\n",
        "df.to_csv('output.csv')"
      ]
    },
    {
      "cell_type": "code",
      "execution_count": 36,
      "metadata": {
        "colab": {
          "base_uri": "https://localhost:8080/"
        },
        "id": "-7hIgRwqDvtD",
        "outputId": "c1ca39da-972f-4d86-a76b-3e8e5b8da206"
      },
      "outputs": [
        {
          "name": "stdout",
          "output_type": "stream",
          "text": [
            "{\"employee_id\":{\"18\":5011147,\"28\":507800},\"first_name\":{\"18\":\"Amiri\",\"28\":\"Himal\"},\"last_name\":{\"18\":\"Gyawali\",\"28\":\"Banjade\"},\"department_id\":{\"18\":18048,\"28\":18048},\"department_name\":{\"18\":\"Patient Equipment Service\",\"28\":\"Patient Equipment Service\"},\"manager_employee_id\":{\"18\":\"5001188\",\"28\":\"5001188\"},\"employee_role\":{\"18\":\"Stock Clerk\",\"28\":\"Stock Clerk\"},\"salary\":{\"18\":10905,\"28\":8903},\"hire_date\":{\"18\":\"2016-11-21\",\"28\":\"1995-09-11\"},\"terminated_date\":{\"18\":\"03-15-2020\",\"28\":\"08-26-2005\"},\"terminated_reason\":{\"18\":\"Contract Expired\",\"28\":\"Medical Urgency\"},\"dob\":{\"18\":\"1977-03-02\",\"28\":\"1961-09-07\"},\"fte\":{\"18\":1.0,\"28\":1.0},\"location\":{\"18\":\"Kathmandu\",\"28\":\"Pokhara\"},\"work_hours\":{\"18\":40.0,\"28\":40.0},\"is_full_time\":{\"18\":true,\"28\":true}}\n"
          ]
        }
      ],
      "source": [
        "# 4.2 Output to JSON\n",
        "json = df.to_json()\n",
        "print(json)"
      ]
    },
    {
      "cell_type": "code",
      "execution_count": 37,
      "metadata": {
        "colab": {
          "base_uri": "https://localhost:8080/"
        },
        "id": "0zTzgXqdDzLZ",
        "outputId": "4534834b-e831-4326-8699-f7abef6f0e33"
      },
      "outputs": [
        {
          "name": "stdout",
          "output_type": "stream",
          "text": [
            "<table border=\"1\" class=\"dataframe\">\n",
            "  <thead>\n",
            "    <tr style=\"text-align: right;\">\n",
            "      <th></th>\n",
            "      <th>employee_id</th>\n",
            "      <th>first_name</th>\n",
            "      <th>last_name</th>\n",
            "      <th>department_id</th>\n",
            "      <th>department_name</th>\n",
            "      <th>manager_employee_id</th>\n",
            "      <th>employee_role</th>\n",
            "      <th>salary</th>\n",
            "      <th>hire_date</th>\n",
            "      <th>terminated_date</th>\n",
            "      <th>terminated_reason</th>\n",
            "      <th>dob</th>\n",
            "      <th>fte</th>\n",
            "      <th>location</th>\n",
            "      <th>work_hours</th>\n",
            "      <th>is_full_time</th>\n",
            "    </tr>\n",
            "  </thead>\n",
            "  <tbody>\n",
            "    <tr>\n",
            "      <th>18</th>\n",
            "      <td>5011147</td>\n",
            "      <td>Amiri</td>\n",
            "      <td>Gyawali</td>\n",
            "      <td>18048</td>\n",
            "      <td>Patient Equipment Service</td>\n",
            "      <td>5001188</td>\n",
            "      <td>Stock Clerk</td>\n",
            "      <td>10905</td>\n",
            "      <td>2016-11-21</td>\n",
            "      <td>03-15-2020</td>\n",
            "      <td>Contract Expired</td>\n",
            "      <td>1977-03-02</td>\n",
            "      <td>1.0</td>\n",
            "      <td>Kathmandu</td>\n",
            "      <td>40.0</td>\n",
            "      <td>True</td>\n",
            "    </tr>\n",
            "    <tr>\n",
            "      <th>28</th>\n",
            "      <td>507800</td>\n",
            "      <td>Himal</td>\n",
            "      <td>Banjade</td>\n",
            "      <td>18048</td>\n",
            "      <td>Patient Equipment Service</td>\n",
            "      <td>5001188</td>\n",
            "      <td>Stock Clerk</td>\n",
            "      <td>8903</td>\n",
            "      <td>1995-09-11</td>\n",
            "      <td>08-26-2005</td>\n",
            "      <td>Medical Urgency</td>\n",
            "      <td>1961-09-07</td>\n",
            "      <td>1.0</td>\n",
            "      <td>Pokhara</td>\n",
            "      <td>40.0</td>\n",
            "      <td>True</td>\n",
            "    </tr>\n",
            "  </tbody>\n",
            "</table>\n"
          ]
        }
      ],
      "source": [
        "# 4.3 Output to HTML\n",
        "html = df.to_html()\n",
        "print(html)\n"
      ]
    },
    {
      "cell_type": "markdown",
      "metadata": {
        "id": "iE-Eea27D2RA"
      },
      "source": [
        "# Delete"
      ]
    },
    {
      "cell_type": "code",
      "execution_count": 38,
      "metadata": {
        "id": "Ehs77SbmD6T3"
      },
      "outputs": [],
      "source": [
        "# Delete a DataFrame\n",
        "del df"
      ]
    },
    {
      "cell_type": "code",
      "execution_count": 39,
      "metadata": {
        "colab": {
          "base_uri": "https://localhost:8080/",
          "height": 165
        },
        "id": "OK3HT-K4D8Dg",
        "outputId": "55d38df0-8840-47c8-f2d1-01e9a5febedc"
      },
      "outputs": [
        {
          "ename": "NameError",
          "evalue": "ignored",
          "output_type": "error",
          "traceback": [
            "\u001b[0;31m---------------------------------------------------------------------------\u001b[0m",
            "\u001b[0;31mNameError\u001b[0m                                 Traceback (most recent call last)",
            "\u001b[0;32m<ipython-input-39-2a851eda2e88>\u001b[0m in \u001b[0;36m<module>\u001b[0;34m()\u001b[0m\n\u001b[0;32m----> 1\u001b[0;31m \u001b[0mprint\u001b[0m\u001b[0;34m(\u001b[0m\u001b[0mdf\u001b[0m\u001b[0;34m)\u001b[0m\u001b[0;34m\u001b[0m\u001b[0;34m\u001b[0m\u001b[0m\n\u001b[0m",
            "\u001b[0;31mNameError\u001b[0m: name 'df' is not defined"
          ]
        }
      ],
      "source": [
        "print(df)"
      ]
    }
  ],
  "metadata": {
    "colab": {
      "collapsed_sections": [],
      "name": "01_Pandas.ipynb",
      "provenance": [],
      "toc_visible": true
    },
    "kernelspec": {
      "display_name": "Python 3",
      "name": "python3"
    },
    "language_info": {
      "name": "python"
    }
  },
  "nbformat": 4,
  "nbformat_minor": 0
}
