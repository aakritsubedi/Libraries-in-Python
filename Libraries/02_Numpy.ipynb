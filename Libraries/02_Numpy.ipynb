{
  "nbformat": 4,
  "nbformat_minor": 0,
  "metadata": {
    "colab": {
      "name": "02_Numpy.ipynb",
      "provenance": [],
      "collapsed_sections": []
    },
    "kernelspec": {
      "name": "python3",
      "display_name": "Python 3"
    },
    "language_info": {
      "name": "python"
    }
  },
  "cells": [
    {
      "cell_type": "markdown",
      "metadata": {
        "id": "HOJJEkGkPl2z"
      },
      "source": [
        "# Numpy\n",
        "NumPy is a Python library used for working with arrays.\n",
        "\n",
        "It also has functions for working in domain of linear algebra, fourier transform, and matrices. \n",
        "\n",
        "NumPy stands for **Numerical Python**.\n",
        "\n",
        "Q. Why Numpy? \n",
        "\n",
        "NumPy aims to provide an array object that is up to 50x faster than traditional Python lists. The array object in NumPy is called ndarray, it provides a lot of supporting functions that make working with ndarray very easy."
      ]
    },
    {
      "cell_type": "markdown",
      "metadata": {
        "id": "jCCbmlPqST4p"
      },
      "source": [
        "Q. Why is NumPy Faster Than Lists?\n",
        "\n",
        "NumPy arrays are stored at one continuous place in memory unlike lists, so processes can access and manipulate them very efficiently.\n",
        "\n",
        "This behavior is called locality of reference in computer science.\n",
        "\n",
        "This is the main reason why NumPy is faster than lists. Also it is optimized to work with latest CPU architectures."
      ]
    },
    {
      "cell_type": "code",
      "metadata": {
        "colab": {
          "base_uri": "https://localhost:8080/"
        },
        "id": "3ljED-ppUZiy",
        "outputId": "2912ceb6-a376-4307-800a-ba510f12487c"
      },
      "source": [
        "# Installing \n",
        "!pip install numpy"
      ],
      "execution_count": 4,
      "outputs": [
        {
          "output_type": "stream",
          "name": "stdout",
          "text": [
            "Requirement already satisfied: numpy in /usr/local/lib/python3.7/dist-packages (1.19.5)\n"
          ]
        }
      ]
    },
    {
      "cell_type": "code",
      "metadata": {
        "id": "O66U7v9nPgjm"
      },
      "source": [
        "# Importing Numpy\n",
        "import numpy as np"
      ],
      "execution_count": 1,
      "outputs": []
    },
    {
      "cell_type": "code",
      "metadata": {
        "colab": {
          "base_uri": "https://localhost:8080/"
        },
        "id": "VaLxeoj0SuJK",
        "outputId": "c9082a94-ad33-4b2b-c329-95db04341b0a"
      },
      "source": [
        "# Checking the version \n",
        "print(np.__version__)"
      ],
      "execution_count": 3,
      "outputs": [
        {
          "output_type": "stream",
          "name": "stdout",
          "text": [
            "1.19.5\n"
          ]
        }
      ]
    },
    {
      "cell_type": "code",
      "metadata": {
        "colab": {
          "base_uri": "https://localhost:8080/"
        },
        "id": "kqtaa227SnQc",
        "outputId": "70db580c-c6fa-41ea-e9dc-3990377b272f"
      },
      "source": [
        "arr = np.array([1, 2, 3, 4, 5])\n",
        "\n",
        "print(arr)"
      ],
      "execution_count": 2,
      "outputs": [
        {
          "output_type": "stream",
          "name": "stdout",
          "text": [
            "[1 2 3 4 5]\n"
          ]
        }
      ]
    },
    {
      "cell_type": "markdown",
      "metadata": {
        "id": "g6egnr41TMCd"
      },
      "source": [
        "# Create\n",
        "NumPy is used to work with arrays. The array object in NumPy is called ndarray. \n",
        "\n",
        "We can create a NumPy ndarray object by using the array() function."
      ]
    },
    {
      "cell_type": "code",
      "metadata": {
        "colab": {
          "base_uri": "https://localhost:8080/"
        },
        "id": "xRVkj7S5TbEW",
        "outputId": "aa0337ac-0131-491f-b2d5-9972d31d9c0f"
      },
      "source": [
        "arr = np.array([1, 2, 3, 4, 5])\n",
        "\n",
        "print(arr)\n",
        "\n",
        "print(type(arr))"
      ],
      "execution_count": 5,
      "outputs": [
        {
          "output_type": "stream",
          "name": "stdout",
          "text": [
            "[1 2 3 4 5]\n",
            "<class 'numpy.ndarray'>\n"
          ]
        }
      ]
    },
    {
      "cell_type": "code",
      "metadata": {
        "colab": {
          "base_uri": "https://localhost:8080/"
        },
        "id": "9BSKAVdVUhHc",
        "outputId": "6a940c2a-1279-4cd5-c4f9-0ff1125fc14e"
      },
      "source": [
        "arr = np.array((1, 2, 3, 4, 5))\n",
        "\n",
        "print(arr)"
      ],
      "execution_count": 6,
      "outputs": [
        {
          "output_type": "stream",
          "name": "stdout",
          "text": [
            "[1 2 3 4 5]\n"
          ]
        }
      ]
    },
    {
      "cell_type": "code",
      "metadata": {
        "colab": {
          "base_uri": "https://localhost:8080/"
        },
        "id": "eT4peBfkVhE0",
        "outputId": "c943cb18-0d76-4a5e-ece1-7c0bf5206e5f"
      },
      "source": [
        "arr = np.array([[1,2,3,4,5], [6,7,8,9,10]])\n",
        "\n",
        "print(arr)"
      ],
      "execution_count": 11,
      "outputs": [
        {
          "output_type": "stream",
          "name": "stdout",
          "text": [
            "[[ 1  2  3  4  5]\n",
            " [ 6  7  8  9 10]]\n"
          ]
        }
      ]
    },
    {
      "cell_type": "code",
      "metadata": {
        "colab": {
          "base_uri": "https://localhost:8080/"
        },
        "id": "qOu0b6WAZqkI",
        "outputId": "bfcba05f-548b-4a13-da88-62e93c7ce24d"
      },
      "source": [
        "# 1D Array\n",
        "arr1 = np.array([1, 2, 3, 4, 5])\n",
        "\n",
        "print(arr1)"
      ],
      "execution_count": 28,
      "outputs": [
        {
          "output_type": "stream",
          "name": "stdout",
          "text": [
            "[1 2 3 4 5]\n"
          ]
        }
      ]
    },
    {
      "cell_type": "code",
      "metadata": {
        "colab": {
          "base_uri": "https://localhost:8080/"
        },
        "id": "BIf2LTEdZ43z",
        "outputId": "376a6886-fe48-4dbe-de57-2f4d5d6115d3"
      },
      "source": [
        "# 2D Array\n",
        "arr2 = np.array([[1, 2, 3], [4, 5, 6]])\n",
        "\n",
        "print(arr2)"
      ],
      "execution_count": 29,
      "outputs": [
        {
          "output_type": "stream",
          "name": "stdout",
          "text": [
            "[[1 2 3]\n",
            " [4 5 6]]\n"
          ]
        }
      ]
    },
    {
      "cell_type": "code",
      "metadata": {
        "colab": {
          "base_uri": "https://localhost:8080/"
        },
        "id": "YrSU_xzkZ-rK",
        "outputId": "cef97dd8-17f6-4a22-e9f2-6833a8d4d768"
      },
      "source": [
        "# 3D Array\n",
        "arr3 = np.array([[[1, 2, 3], [4, 5, 6]], [[1, 2, 3], [4, 5, 6]]])\n",
        "\n",
        "print(arr3)"
      ],
      "execution_count": 31,
      "outputs": [
        {
          "output_type": "stream",
          "name": "stdout",
          "text": [
            "[[[1 2 3]\n",
            "  [4 5 6]]\n",
            "\n",
            " [[1 2 3]\n",
            "  [4 5 6]]]\n"
          ]
        }
      ]
    },
    {
      "cell_type": "code",
      "metadata": {
        "id": "Q--3Ar74UgrB"
      },
      "source": [
        "# Generating Array\n",
        "data = np.random.rand(2,3,4)\n",
        "zeroes = np.zeros((2,2,2))\n",
        "full = np.full((2,2,2), 7)\n",
        "ones = np.ones((2,2,2))"
      ],
      "execution_count": 32,
      "outputs": []
    },
    {
      "cell_type": "code",
      "metadata": {
        "colab": {
          "base_uri": "https://localhost:8080/"
        },
        "id": "m-Ddy3AJVH4X",
        "outputId": "a1b4b5d4-b6c2-4a5d-ef20-a13e7591523b"
      },
      "source": [
        "print('Random Array')\n",
        "print(data)\n",
        "\n",
        "print('Zeros Array')\n",
        "print(zeroes)\n",
        "\n",
        "print('Full Array')\n",
        "print(full)\n",
        "\n",
        "print('Ones Array')\n",
        "print(ones)\n",
        "\n"
      ],
      "execution_count": 9,
      "outputs": [
        {
          "output_type": "stream",
          "name": "stdout",
          "text": [
            "Random Array\n",
            "[[[0.93284618 0.27320099 0.7356872  0.10934151]\n",
            "  [0.07222698 0.1620094  0.61063543 0.99422143]\n",
            "  [0.02834517 0.36693749 0.14617868 0.20982417]]\n",
            "\n",
            " [[0.85308215 0.64961369 0.13580674 0.71686942]\n",
            "  [0.62661828 0.44251617 0.67487661 0.97343963]\n",
            "  [0.85939394 0.04599448 0.11307009 0.69808284]]]\n",
            "Zeros Array\n",
            "[[[0. 0.]\n",
            "  [0. 0.]]\n",
            "\n",
            " [[0. 0.]\n",
            "  [0. 0.]]]\n",
            "Full Array\n",
            "[[[7 7]\n",
            "  [7 7]]\n",
            "\n",
            " [[7 7]\n",
            "  [7 7]]]\n",
            "Ones Array\n",
            "[[[1. 1.]\n",
            "  [1. 1.]]\n",
            "\n",
            " [[1. 1.]\n",
            "  [1. 1.]]]\n"
          ]
        }
      ]
    },
    {
      "cell_type": "markdown",
      "metadata": {
        "id": "dUn5YVOMV6qq"
      },
      "source": [
        "# Read"
      ]
    },
    {
      "cell_type": "code",
      "metadata": {
        "id": "lN6uxl36V8qG"
      },
      "source": [
        "# Attributes\n",
        "\n",
        "shape = data.shape\n",
        "size = data.size\n",
        "types= data.dtype"
      ],
      "execution_count": 15,
      "outputs": []
    },
    {
      "cell_type": "code",
      "metadata": {
        "colab": {
          "base_uri": "https://localhost:8080/"
        },
        "id": "1pRRDe2nWE2H",
        "outputId": "6a8abb34-7b49-4974-dfbd-26c2d8bd75d8"
      },
      "source": [
        "print('Shape: ')\n",
        "print(shape)\n",
        "\n",
        "print('Size: ')\n",
        "print(size)\n",
        "\n",
        "print('Types: ')\n",
        "print(types)\n"
      ],
      "execution_count": 19,
      "outputs": [
        {
          "output_type": "stream",
          "name": "stdout",
          "text": [
            "Shape: \n",
            "(2, 3, 4)\n",
            "Size: \n",
            "24\n",
            "Types: \n",
            "float64\n"
          ]
        }
      ]
    },
    {
      "cell_type": "markdown",
      "metadata": {
        "id": "DRqmFhByYdrW"
      },
      "source": [
        "A dimension in arrays is one level of array depth (nested arrays)."
      ]
    },
    {
      "cell_type": "code",
      "metadata": {
        "id": "mzV9SyU5Wmv2"
      },
      "source": [
        "# Slicing\n",
        "arr = data[0]\n",
        "slicer = data[0][0:2]\n",
        "reverse = data[-1]\n",
        "sing_level = data[0][0][0]"
      ],
      "execution_count": 22,
      "outputs": []
    },
    {
      "cell_type": "code",
      "metadata": {
        "colab": {
          "base_uri": "https://localhost:8080/"
        },
        "id": "DvFoqCw7W78X",
        "outputId": "8e47fb2b-db52-4e71-9851-7b4f86838eb6"
      },
      "source": [
        "print(arr)\n",
        "print('-----------')\n",
        "\n",
        "print(slicer)\n",
        "print('-----------')\n",
        "\n",
        "print(reverse)\n",
        "print('-----------')\n",
        "\n",
        "print(sing_level)\n",
        "print('-----------')\n"
      ],
      "execution_count": 25,
      "outputs": [
        {
          "output_type": "stream",
          "name": "stdout",
          "text": [
            "[[0.93284618 0.27320099 0.7356872  0.10934151]\n",
            " [0.07222698 0.1620094  0.61063543 0.99422143]\n",
            " [0.02834517 0.36693749 0.14617868 0.20982417]]\n",
            "-----------\n",
            "[[0.93284618 0.27320099 0.7356872  0.10934151]\n",
            " [0.07222698 0.1620094  0.61063543 0.99422143]]\n",
            "-----------\n",
            "[[0.85308215 0.64961369 0.13580674 0.71686942]\n",
            " [0.62661828 0.44251617 0.67487661 0.97343963]\n",
            " [0.85939394 0.04599448 0.11307009 0.69808284]]\n",
            "-----------\n",
            "0.9328461845424936\n",
            "-----------\n"
          ]
        }
      ]
    },
    {
      "cell_type": "markdown",
      "metadata": {
        "id": "GL9bYFyfbYiK"
      },
      "source": [
        "# Update"
      ]
    },
    {
      "cell_type": "code",
      "metadata": {
        "id": "OIRKzFadXu_g"
      },
      "source": [
        "# Generating Array \n",
        "list1 = np.random.rand(10)\n",
        "list2 = np.random.rand(10)"
      ],
      "execution_count": 33,
      "outputs": []
    },
    {
      "cell_type": "code",
      "metadata": {
        "id": "HVyDZCRwaaWz"
      },
      "source": [
        "# Basic Maths \n",
        "add = np.add(list1, list2)\n",
        "sub = np.subtract(list1, list2)\n",
        "div = np.divide(list1, list2)\n",
        "mult = np.multiply(list1, list2)\n",
        "dot = np.dot(list1, list2)"
      ],
      "execution_count": 34,
      "outputs": []
    },
    {
      "cell_type": "code",
      "metadata": {
        "colab": {
          "base_uri": "https://localhost:8080/"
        },
        "id": "v7YHKIsza3B1",
        "outputId": "a5e43cd1-3980-4f53-f5eb-55c16fe8ccbd"
      },
      "source": [
        "# Results\n",
        "\n",
        "print('Results')\n",
        "\n",
        "print('Addition: ')\n",
        "print(add)\n",
        "print('--------------------------')\n",
        "\n",
        "\n",
        "print('Subtraction: ')\n",
        "print(sub)\n",
        "print('--------------------------')\n",
        "\n",
        "print('Division: ')\n",
        "print(div)\n",
        "print('--------------------------')\n",
        "\n",
        "print('Multiplication: ')\n",
        "print(mult)\n",
        "print('--------------------------')\n",
        "\n",
        "print('Dot Product: ')\n",
        "print(dot)\n",
        "print('--------------------------')"
      ],
      "execution_count": 36,
      "outputs": [
        {
          "output_type": "stream",
          "name": "stdout",
          "text": [
            "Results\n",
            "Addition: \n",
            "[1.16532018 1.09498488 1.60139718 0.38308986 1.11006154 1.09224443\n",
            " 0.91042348 1.29263342 1.56327359 0.77507398]\n",
            "--------------------------\n",
            "Subtraction: \n",
            "[ 0.19716816 -0.70728747  0.09030713  0.23953384 -0.3542279   0.11154986\n",
            "  0.80120847 -0.16791362 -0.00988866  0.21315621]\n",
            "--------------------------\n",
            "Division: \n",
            "[ 1.40730827  0.21511589  1.11952581  4.33714812  0.51617776  1.22749153\n",
            " 15.67213008  0.7700675   0.98742831  1.75867402]\n",
            "--------------------------\n",
            "Multiplication: \n",
            "[0.32977396 0.17468408 0.63907939 0.02234534 0.2766898  0.29513863\n",
            " 0.04673398 0.41067655 0.61093163 0.13882603]\n",
            "--------------------------\n",
            "Dot Product: \n",
            "2.944879398372066\n",
            "--------------------------\n"
          ]
        }
      ]
    },
    {
      "cell_type": "code",
      "metadata": {
        "id": "1C3h3PZEo13-"
      },
      "source": [
        "# Statistical Functions\n",
        "sqrt = np.sqrt(25)\n",
        "ab = np.abs(-2)\n",
        "power = np.power(2,7)\n",
        "log = np.log(25)\n",
        "exp = np.exp([2,3])\n",
        "mins = np.min(list1)\n",
        "maxs = np.max(list1)"
      ],
      "execution_count": 43,
      "outputs": []
    },
    {
      "cell_type": "code",
      "metadata": {
        "colab": {
          "base_uri": "https://localhost:8080/"
        },
        "id": "pPt5DxFPpWes",
        "outputId": "cdd75bcf-581c-4079-e15d-48a331de23e9"
      },
      "source": [
        "# Results\n",
        "\n",
        "print('Results')\n",
        "\n",
        "print('SQRT: ')\n",
        "print(sqrt)\n",
        "print('--------------------------')\n",
        "\n",
        "print('ABS: ')\n",
        "print(abs)\n",
        "print('--------------------------')\n",
        "\n",
        "print('Power: ')\n",
        "print(power)\n",
        "print('--------------------------')\n",
        "\n",
        "print('Log: ')\n",
        "print(log)\n",
        "print('--------------------------')\n",
        "\n",
        "print('Exp: ')\n",
        "print(exp)\n",
        "print('--------------------------')\n",
        "\n",
        "print('Max and Min: ')\n",
        "print(maxs)\n",
        "print(mins)\n",
        "print('--------------------------')\n"
      ],
      "execution_count": 44,
      "outputs": [
        {
          "output_type": "stream",
          "name": "stdout",
          "text": [
            "Results\n",
            "SQRT: \n",
            "5.0\n",
            "--------------------------\n",
            "ABS: \n",
            "<built-in function abs>\n",
            "--------------------------\n",
            "Power: \n",
            "128\n",
            "--------------------------\n",
            "Log: \n",
            "3.2188758248682006\n",
            "--------------------------\n",
            "Exp: \n",
            "[ 7.3890561  20.08553692]\n",
            "--------------------------\n",
            "Max and Min: \n",
            "0.8558159742485384\n",
            "0.19384870882488425\n",
            "--------------------------\n"
          ]
        }
      ]
    },
    {
      "cell_type": "code",
      "metadata": {
        "colab": {
          "base_uri": "https://localhost:8080/"
        },
        "id": "OOYKl5wOsr92",
        "outputId": "40b47273-0d35-48de-b0bb-5ba733d6ca15"
      },
      "source": [
        "print(data)"
      ],
      "execution_count": 45,
      "outputs": [
        {
          "output_type": "stream",
          "name": "stdout",
          "text": [
            "[[[0.0760836  0.56793658 0.9820642  0.81920334]\n",
            "  [0.80465965 0.01842755 0.59820601 0.84258687]\n",
            "  [0.25693252 0.40756913 0.6936527  0.06583032]]\n",
            "\n",
            " [[0.20174536 0.04676    0.80562396 0.95305206]\n",
            "  [0.49320101 0.83443923 0.57856639 0.6768167 ]\n",
            "  [0.9005899  0.00621586 0.36591891 0.58019392]]]\n"
          ]
        }
      ]
    },
    {
      "cell_type": "code",
      "metadata": {
        "id": "FnjzAfNgsuKL"
      },
      "source": [
        "data[0][0][0] = 7"
      ],
      "execution_count": 46,
      "outputs": []
    },
    {
      "cell_type": "code",
      "metadata": {
        "colab": {
          "base_uri": "https://localhost:8080/"
        },
        "id": "fAcmTOVqsxUV",
        "outputId": "e8ab07e0-af13-4386-930f-72e0629af6bb"
      },
      "source": [
        "print(data)"
      ],
      "execution_count": 47,
      "outputs": [
        {
          "output_type": "stream",
          "name": "stdout",
          "text": [
            "[[[7.00000000e+00 5.67936584e-01 9.82064200e-01 8.19203337e-01]\n",
            "  [8.04659648e-01 1.84275480e-02 5.98206013e-01 8.42586866e-01]\n",
            "  [2.56932523e-01 4.07569134e-01 6.93652700e-01 6.58303168e-02]]\n",
            "\n",
            " [[2.01745357e-01 4.67599955e-02 8.05623960e-01 9.53052061e-01]\n",
            "  [4.93201008e-01 8.34439226e-01 5.78566389e-01 6.76816696e-01]\n",
            "  [9.00589904e-01 6.21585859e-03 3.65918909e-01 5.80193923e-01]]]\n"
          ]
        }
      ]
    },
    {
      "cell_type": "code",
      "metadata": {
        "colab": {
          "base_uri": "https://localhost:8080/"
        },
        "id": "enlzKKXzs0iE",
        "outputId": "a86c7542-4f6b-48ab-fa71-30d2ffe906d0"
      },
      "source": [
        "# Sorting \n",
        "data.sort()\n",
        "\n",
        "print(data)"
      ],
      "execution_count": 48,
      "outputs": [
        {
          "output_type": "stream",
          "name": "stdout",
          "text": [
            "[[[5.67936584e-01 8.19203337e-01 9.82064200e-01 7.00000000e+00]\n",
            "  [1.84275480e-02 5.98206013e-01 8.04659648e-01 8.42586866e-01]\n",
            "  [6.58303168e-02 2.56932523e-01 4.07569134e-01 6.93652700e-01]]\n",
            "\n",
            " [[4.67599955e-02 2.01745357e-01 8.05623960e-01 9.53052061e-01]\n",
            "  [4.93201008e-01 5.78566389e-01 6.76816696e-01 8.34439226e-01]\n",
            "  [6.21585859e-03 3.65918909e-01 5.80193923e-01 9.00589904e-01]]]\n"
          ]
        }
      ]
    },
    {
      "cell_type": "code",
      "metadata": {
        "colab": {
          "base_uri": "https://localhost:8080/"
        },
        "id": "xC-kgWP6s6LN",
        "outputId": "6f81fa32-102a-4f2e-dea6-d21ca5a97615"
      },
      "source": [
        "# Reshaping\n",
        "\n",
        "print(data.shape)\n",
        "\n",
        "data = data.reshape(2,2,-1)\n",
        "\n",
        "print(data.shape)"
      ],
      "execution_count": 49,
      "outputs": [
        {
          "output_type": "stream",
          "name": "stdout",
          "text": [
            "(2, 3, 4)\n",
            "(2, 2, 6)\n"
          ]
        }
      ]
    },
    {
      "cell_type": "code",
      "metadata": {
        "colab": {
          "base_uri": "https://localhost:8080/"
        },
        "id": "kthIIwvAtGqn",
        "outputId": "1c2998c9-399a-4645-b1d5-e162bc28ef30"
      },
      "source": [
        "# Adding\n",
        "\n",
        "zeros = np.zeros(8)\n",
        "print(zeros)\n",
        "\n",
        "zeros = np.append(zeros, [1,2,3])\n",
        "print(zeros)\n"
      ],
      "execution_count": 51,
      "outputs": [
        {
          "output_type": "stream",
          "name": "stdout",
          "text": [
            "[0. 0. 0. 0. 0. 0. 0. 0.]\n",
            "[0. 0. 0. 0. 0. 0. 0. 0. 1. 2. 3.]\n"
          ]
        }
      ]
    },
    {
      "cell_type": "code",
      "metadata": {
        "colab": {
          "base_uri": "https://localhost:8080/"
        },
        "id": "fKU1hFKstYl1",
        "outputId": "928345a6-490a-4fdc-ab92-416df6c685a9"
      },
      "source": [
        "# Inserting at positon 2\n",
        "zeros = np.insert(zeros, 2, 1) \n",
        "print(zeros)"
      ],
      "execution_count": 52,
      "outputs": [
        {
          "output_type": "stream",
          "name": "stdout",
          "text": [
            "[0. 0. 1. 0. 0. 0. 0. 0. 0. 1. 2. 3.]\n"
          ]
        }
      ]
    },
    {
      "cell_type": "markdown",
      "metadata": {
        "id": "Q7PCYCAmtrfK"
      },
      "source": [
        "# Delete"
      ]
    },
    {
      "cell_type": "code",
      "metadata": {
        "colab": {
          "base_uri": "https://localhost:8080/"
        },
        "id": "4P8jicwNtuNi",
        "outputId": "f8ad86f2-c171-4710-d976-7317e4f39c9e"
      },
      "source": [
        "print(data)"
      ],
      "execution_count": 53,
      "outputs": [
        {
          "output_type": "stream",
          "name": "stdout",
          "text": [
            "[[[5.67936584e-01 8.19203337e-01 9.82064200e-01 7.00000000e+00\n",
            "   1.84275480e-02 5.98206013e-01]\n",
            "  [8.04659648e-01 8.42586866e-01 6.58303168e-02 2.56932523e-01\n",
            "   4.07569134e-01 6.93652700e-01]]\n",
            "\n",
            " [[4.67599955e-02 2.01745357e-01 8.05623960e-01 9.53052061e-01\n",
            "   4.93201008e-01 5.78566389e-01]\n",
            "  [6.76816696e-01 8.34439226e-01 6.21585859e-03 3.65918909e-01\n",
            "   5.80193923e-01 9.00589904e-01]]]\n"
          ]
        }
      ]
    },
    {
      "cell_type": "code",
      "metadata": {
        "colab": {
          "base_uri": "https://localhost:8080/"
        },
        "id": "Ysh6Ss6etyJN",
        "outputId": "da439203-425a-44e3-e201-888f649a3627"
      },
      "source": [
        "np.delete(data, 0, axis=1)\n",
        "print(data)"
      ],
      "execution_count": 55,
      "outputs": [
        {
          "output_type": "stream",
          "name": "stdout",
          "text": [
            "[[[5.67936584e-01 8.19203337e-01 9.82064200e-01 7.00000000e+00\n",
            "   1.84275480e-02 5.98206013e-01]\n",
            "  [8.04659648e-01 8.42586866e-01 6.58303168e-02 2.56932523e-01\n",
            "   4.07569134e-01 6.93652700e-01]]\n",
            "\n",
            " [[4.67599955e-02 2.01745357e-01 8.05623960e-01 9.53052061e-01\n",
            "   4.93201008e-01 5.78566389e-01]\n",
            "  [6.76816696e-01 8.34439226e-01 6.21585859e-03 3.65918909e-01\n",
            "   5.80193923e-01 9.00589904e-01]]]\n"
          ]
        }
      ]
    },
    {
      "cell_type": "markdown",
      "metadata": {
        "id": "XhLtt4Hlt7MA"
      },
      "source": [
        "# Saving and Loading"
      ]
    },
    {
      "cell_type": "code",
      "metadata": {
        "id": "HlxnQSf-t9vE"
      },
      "source": [
        "# Saving\n",
        "np.save('my_data_array', data)"
      ],
      "execution_count": 56,
      "outputs": []
    },
    {
      "cell_type": "code",
      "metadata": {
        "colab": {
          "base_uri": "https://localhost:8080/"
        },
        "id": "32irBpWWuqh2",
        "outputId": "2a65cf11-b5e8-4211-b058-2054a17cc75f"
      },
      "source": [
        "# Current Directory\n",
        "import os\n",
        "cwd = os.getcwd()\n",
        "\n",
        "print(cwd)"
      ],
      "execution_count": 61,
      "outputs": [
        {
          "output_type": "stream",
          "name": "stdout",
          "text": [
            "/content\n"
          ]
        }
      ]
    },
    {
      "cell_type": "code",
      "metadata": {
        "colab": {
          "base_uri": "https://localhost:8080/"
        },
        "id": "q6mjE1ubuC5u",
        "outputId": "80286b63-f1c6-4a94-bad8-453db82fa844"
      },
      "source": [
        "# Loading\n",
        "my_data = np.load('/content/my_data_array.npy')\n",
        "\n",
        "print(my_data)"
      ],
      "execution_count": 64,
      "outputs": [
        {
          "output_type": "stream",
          "name": "stdout",
          "text": [
            "[[[5.67936584e-01 8.19203337e-01 9.82064200e-01 7.00000000e+00\n",
            "   1.84275480e-02 5.98206013e-01]\n",
            "  [8.04659648e-01 8.42586866e-01 6.58303168e-02 2.56932523e-01\n",
            "   4.07569134e-01 6.93652700e-01]]\n",
            "\n",
            " [[4.67599955e-02 2.01745357e-01 8.05623960e-01 9.53052061e-01\n",
            "   4.93201008e-01 5.78566389e-01]\n",
            "  [6.76816696e-01 8.34439226e-01 6.21585859e-03 3.65918909e-01\n",
            "   5.80193923e-01 9.00589904e-01]]]\n"
          ]
        }
      ]
    }
  ]
}